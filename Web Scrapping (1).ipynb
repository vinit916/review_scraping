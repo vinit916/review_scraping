{
 "cells": [
  {
   "cell_type": "code",
   "execution_count": 1,
   "id": "68387d2f-13fe-4340-a0be-b078c87d7b03",
   "metadata": {},
   "outputs": [],
   "source": [
    "#Web sceaping"
   ]
  },
  {
   "cell_type": "code",
   "execution_count": 4,
   "id": "bc77bb88-8fe7-4736-bc69-bfa6bc5f0400",
   "metadata": {},
   "outputs": [],
   "source": [
    "import requests\n",
    "from bs4 import BeautifulSoup as bs\n",
    "from urllib.request import urlopen \n",
    "import logging"
   ]
  },
  {
   "cell_type": "code",
   "execution_count": 5,
   "id": "68b8b7ab-901e-40ea-9b55-5c52269495dc",
   "metadata": {},
   "outputs": [],
   "source": [
    "flipkart_url=\"https://www.flipkart.com/search?q=\"+\"iphone13pro\""
   ]
  },
  {
   "cell_type": "code",
   "execution_count": 6,
   "id": "5711f30d-6489-48b4-aee6-e62b53752b94",
   "metadata": {},
   "outputs": [
    {
     "data": {
      "text/plain": [
       "'https://www.flipkart.com/search?q=iphone13pro'"
      ]
     },
     "execution_count": 6,
     "metadata": {},
     "output_type": "execute_result"
    }
   ],
   "source": [
    "flipkart_url"
   ]
  },
  {
   "cell_type": "code",
   "execution_count": 6,
   "id": "65653217-76bb-4b44-aa02-373f921896b3",
   "metadata": {},
   "outputs": [],
   "source": [
    "urlclient=urlopen(flipkart_url)"
   ]
  },
  {
   "cell_type": "code",
   "execution_count": 7,
   "id": "0f8146c4-2a6e-4318-9b11-f3929adab34d",
   "metadata": {},
   "outputs": [],
   "source": [
    "flipkart_page=urlclient.read()"
   ]
  },
  {
   "cell_type": "code",
   "execution_count": 8,
   "id": "fd375fd4-62b1-472a-84b1-f2d0a8a4bdc8",
   "metadata": {},
   "outputs": [],
   "source": [
    "flipkart_html=bs(flipkart_page,'html.parser')"
   ]
  },
  {
   "cell_type": "code",
   "execution_count": 28,
   "id": "9ac4cfb2-9f99-4f93-ba6a-21386f0f5b29",
   "metadata": {},
   "outputs": [
    {
     "data": {
      "text/plain": [
       "'https://www.flipkart.com/apple-iphone-13-pro-gold-512-gb/p/itm837d2a477d50f?pid=MOBG6VF5F5CYZHTV&lid=LSTMOBG6VF5F5CYZHTVXBQYBO&marketplace=FLIPKART&q=iphone13pro&store=tyy%2F4io&srno=s_1_2&otracker=search&iid=dd9acb8b-6f52-46a5-b416-6c2aefd63295.MOBG6VF5F5CYZHTV.SEARCH&ssid=gyazb488mo0000001677774439798&qH=43c39800153648da'"
      ]
     },
     "execution_count": 28,
     "metadata": {},
     "output_type": "execute_result"
    }
   ],
   "source": [
    "\"https://www.flipkart.com/\"+\"apple-iphone-13-pro-gold-512-gb/p/itm837d2a477d50f?pid=MOBG6VF5F5CYZHTV&lid=LSTMOBG6VF5F5CYZHTVXBQYBO&marketplace=FLIPKART&q=iphone13pro&store=tyy%2F4io&srno=s_1_2&otracker=search&iid=dd9acb8b-6f52-46a5-b416-6c2aefd63295.MOBG6VF5F5CYZHTV.SEARCH&ssid=gyazb488mo0000001677774439798&qH=43c39800153648da\""
   ]
  },
  {
   "cell_type": "code",
   "execution_count": 29,
   "id": "aea7d5c5-ec94-48a5-b919-d2ed8d7a5a98",
   "metadata": {},
   "outputs": [],
   "source": [
    "#Automatically"
   ]
  },
  {
   "cell_type": "code",
   "execution_count": 9,
   "id": "a1c8fe9a-24cb-469d-9b59-f81ed5579587",
   "metadata": {},
   "outputs": [],
   "source": [
    "bigbox=flipkart_html.findAll(\"div\",{\"class\":\"_1AtVbE col-12-12\"})"
   ]
  },
  {
   "cell_type": "code",
   "execution_count": 34,
   "id": "bcb29938-2a45-49a8-a549-fb681dd745b4",
   "metadata": {},
   "outputs": [
    {
     "data": {
      "text/plain": [
       "30"
      ]
     },
     "execution_count": 34,
     "metadata": {},
     "output_type": "execute_result"
    }
   ],
   "source": [
    "len(bigbox)"
   ]
  },
  {
   "cell_type": "code",
   "execution_count": 10,
   "id": "4e45b984-cf4c-4910-afa6-8a476894c5b5",
   "metadata": {},
   "outputs": [
    {
     "ename": "SyntaxError",
     "evalue": "invalid syntax (3634707171.py, line 1)",
     "output_type": "error",
     "traceback": [
      "\u001b[0;36m  Cell \u001b[0;32mIn[10], line 1\u001b[0;36m\u001b[0m\n\u001b[0;31m    del.bigbox[0:3]\u001b[0m\n\u001b[0m       ^\u001b[0m\n\u001b[0;31mSyntaxError\u001b[0m\u001b[0;31m:\u001b[0m invalid syntax\n"
     ]
    }
   ],
   "source": [
    "del.bigbox[0:3]"
   ]
  },
  {
   "cell_type": "code",
   "execution_count": 11,
   "id": "1bc586d8-a7d3-459d-946e-2874562afaa2",
   "metadata": {},
   "outputs": [
    {
     "data": {
      "text/plain": [
       "'https://www.flipkart.com/apple-iphone-13-pro-gold-128-gb/p/itm9547bf22f1980?pid=MOBG6VF5G2HGWZH3&lid=LSTMOBG6VF5G2HGWZH3243H5Q&marketplace=FLIPKART&q=iphone13pro&store=tyy%2F4io&srno=s_1_2&otracker=search&fm=organic&iid=6bffd400-419d-417c-b0bf-0d2360ad770e.MOBG6VF5G2HGWZH3.SEARCH&ppt=None&ppn=None&ssid=pawodc49nk0000001677780397509&qH=43c39800153648da'"
      ]
     },
     "execution_count": 11,
     "metadata": {},
     "output_type": "execute_result"
    }
   ],
   "source": [
    "\"https://www.flipkart.com\"+bigbox[3].div.div.div.a[\"href\"]"
   ]
  },
  {
   "cell_type": "code",
   "execution_count": 12,
   "id": "8c3252c8-31a2-47b9-8cac-5a3e55e07611",
   "metadata": {},
   "outputs": [],
   "source": [
    "product_link=\"https://www.flipkart.com\"+bigbox[3].div.div.div.a[\"href\"]"
   ]
  },
  {
   "cell_type": "code",
   "execution_count": 13,
   "id": "6196310b-b2c6-4f65-a56d-8c9c85c7ed11",
   "metadata": {},
   "outputs": [],
   "source": [
    "product_req=requests.get(product_link)"
   ]
  },
  {
   "cell_type": "code",
   "execution_count": 14,
   "id": "4aa2113a-86a0-4f33-8f66-4641c6d3cb6d",
   "metadata": {},
   "outputs": [
    {
     "data": {
      "text/plain": [
       "'https://www.flipkart.com/apple-iphone-13-pro-gold-128-gb/p/itm9547bf22f1980?pid=MOBG6VF5G2HGWZH3&lid=LSTMOBG6VF5G2HGWZH3243H5Q&marketplace=FLIPKART&q=iphone13pro&store=tyy%2F4io&srno=s_1_2&otracker=search&fm=organic&iid=6bffd400-419d-417c-b0bf-0d2360ad770e.MOBG6VF5G2HGWZH3.SEARCH&ppt=None&ppn=None&ssid=pawodc49nk0000001677780397509&qH=43c39800153648da'"
      ]
     },
     "execution_count": 14,
     "metadata": {},
     "output_type": "execute_result"
    }
   ],
   "source": [
    "product_link"
   ]
  },
  {
   "cell_type": "code",
   "execution_count": 18,
   "id": "5c80a941-b947-4b95-926d-b9280daada38",
   "metadata": {},
   "outputs": [],
   "source": [
    "product_html=bs(product_req.text,\"html.parser\")"
   ]
  },
  {
   "cell_type": "code",
   "execution_count": 20,
   "id": "a21accaf-63d9-4270-83ed-a1fdfc79b53d",
   "metadata": {},
   "outputs": [],
   "source": [
    "comment_box=product_html.find_all('div',{'class':'_16PBlm'})"
   ]
  },
  {
   "cell_type": "code",
   "execution_count": 21,
   "id": "41080990-25cc-4163-8ca8-cd224b8a77fe",
   "metadata": {},
   "outputs": [
    {
     "data": {
      "text/plain": [
       "11"
      ]
     },
     "execution_count": 21,
     "metadata": {},
     "output_type": "execute_result"
    }
   ],
   "source": [
    "len(comment_box)"
   ]
  },
  {
   "cell_type": "code",
   "execution_count": 33,
   "id": "83208e90-3651-4a82-9a52-f2399ac689a5",
   "metadata": {},
   "outputs": [
    {
     "name": "stdout",
     "output_type": "stream",
     "text": [
      "Rukhsar Sheikh\n",
      "Lokesh  Behera \n",
      "Akash Karmakar\n",
      "Krishna Ashok\n",
      "Neeraj Trikha\n",
      "SANJU Das\n",
      "Amit Tanwar\n",
      "Flipkart Customer\n",
      "Abid Hussain\n",
      "Flipkart Customer\n"
     ]
    },
    {
     "ename": "AttributeError",
     "evalue": "'NoneType' object has no attribute 'div'",
     "output_type": "error",
     "traceback": [
      "\u001b[0;31m---------------------------------------------------------------------------\u001b[0m",
      "\u001b[0;31mAttributeError\u001b[0m                            Traceback (most recent call last)",
      "Cell \u001b[0;32mIn[33], line 2\u001b[0m\n\u001b[1;32m      1\u001b[0m \u001b[38;5;28;01mfor\u001b[39;00m i \u001b[38;5;129;01min\u001b[39;00m comment_box:\n\u001b[0;32m----> 2\u001b[0m     \u001b[38;5;28mprint\u001b[39m(\u001b[43mi\u001b[49m\u001b[38;5;241;43m.\u001b[39;49m\u001b[43mdiv\u001b[49m\u001b[38;5;241;43m.\u001b[39;49m\u001b[43mdiv\u001b[49m\u001b[38;5;241m.\u001b[39mfind_all(\u001b[38;5;124m'\u001b[39m\u001b[38;5;124mp\u001b[39m\u001b[38;5;124m'\u001b[39m,{\u001b[38;5;124m'\u001b[39m\u001b[38;5;124mclass\u001b[39m\u001b[38;5;124m'\u001b[39m:\u001b[38;5;124m'\u001b[39m\u001b[38;5;124m_2sc7ZR _2V5EHH\u001b[39m\u001b[38;5;124m'\u001b[39m})[\u001b[38;5;241m0\u001b[39m]\u001b[38;5;241m.\u001b[39mtext)\n",
      "\u001b[0;31mAttributeError\u001b[0m: 'NoneType' object has no attribute 'div'"
     ]
    }
   ],
   "source": [
    "for i in comment_box:\n",
    "    print(i.div.div.find_all('p',{'class':'_2sc7ZR _2V5EHH'})[0].text)"
   ]
  },
  {
   "cell_type": "code",
   "execution_count": 34,
   "id": "da2c5f49-063e-4ee1-bd3e-fbbbc24368f1",
   "metadata": {},
   "outputs": [
    {
     "name": "stdout",
     "output_type": "stream",
     "text": [
      "5\n",
      "5\n",
      "5\n",
      "5\n",
      "5\n",
      "5\n",
      "5\n",
      "5\n",
      "4\n",
      "5\n"
     ]
    },
    {
     "ename": "AttributeError",
     "evalue": "'NoneType' object has no attribute 'div'",
     "output_type": "error",
     "traceback": [
      "\u001b[0;31m---------------------------------------------------------------------------\u001b[0m",
      "\u001b[0;31mAttributeError\u001b[0m                            Traceback (most recent call last)",
      "Cell \u001b[0;32mIn[34], line 2\u001b[0m\n\u001b[1;32m      1\u001b[0m \u001b[38;5;28;01mfor\u001b[39;00m i \u001b[38;5;129;01min\u001b[39;00m comment_box:\n\u001b[0;32m----> 2\u001b[0m     \u001b[38;5;28mprint\u001b[39m(\u001b[43mi\u001b[49m\u001b[38;5;241;43m.\u001b[39;49m\u001b[43mdiv\u001b[49m\u001b[38;5;241;43m.\u001b[39;49m\u001b[43mdiv\u001b[49m\u001b[38;5;241m.\u001b[39mdiv\u001b[38;5;241m.\u001b[39mdiv\u001b[38;5;241m.\u001b[39mtext)\n",
      "\u001b[0;31mAttributeError\u001b[0m: 'NoneType' object has no attribute 'div'"
     ]
    }
   ],
   "source": [
    "for i in comment_box:\n",
    "    print(i.div.div.div.div.text)"
   ]
  },
  {
   "cell_type": "code",
   "execution_count": null,
   "id": "f8519872-cb04-41ea-9402-07b63b37525f",
   "metadata": {},
   "outputs": [],
   "source": []
  },
  {
   "cell_type": "code",
   "execution_count": null,
   "id": "fcdf7077-1531-4cb3-84ac-be0681a615ae",
   "metadata": {},
   "outputs": [],
   "source": []
  },
  {
   "cell_type": "code",
   "execution_count": 39,
   "id": "ea705286-4d5a-4587-8019-d5c6d60230ee",
   "metadata": {},
   "outputs": [],
   "source": [
    "#for multiple"
   ]
  },
  {
   "cell_type": "code",
   "execution_count": 42,
   "id": "b596dd34-656d-428d-8002-8dbc435df7af",
   "metadata": {},
   "outputs": [
    {
     "name": "stdout",
     "output_type": "stream",
     "text": [
      "https://www.flipkart.com/apple-iphone-13-pro-gold-512-gb/p/itm837d2a477d50f?pid=MOBG6VF5F5CYZHTV&lid=LSTMOBG6VF5F5CYZHTVXBQYBO&marketplace=FLIPKART&q=iphone13pro&store=tyy%2F4io&srno=s_1_2&otracker=search&fm=organic&iid=d3834560-c62f-4fad-974d-7361ecf83481.MOBG6VF5F5CYZHTV.SEARCH&ppt=None&ppn=None&ssid=5kti0l079c0000001677774806120&qH=43c39800153648da\n",
      "https://www.flipkart.com/apple-iphone-13-pro-gold-512-gb/p/itm837d2a477d50f?pid=MOBG6VF5F5CYZHTV&lid=LSTMOBG6VF5F5CYZHTVXBQYBO&marketplace=FLIPKART&q=iphone13pro&store=tyy%2F4io&srno=s_1_2&otracker=search&fm=organic&iid=d3834560-c62f-4fad-974d-7361ecf83481.MOBG6VF5F5CYZHTV.SEARCH&ppt=None&ppn=None&ssid=5kti0l079c0000001677774806120&qH=43c39800153648da\n",
      "https://www.flipkart.com/apple-iphone-13-pro-gold-512-gb/p/itm837d2a477d50f?pid=MOBG6VF5F5CYZHTV&lid=LSTMOBG6VF5F5CYZHTVXBQYBO&marketplace=FLIPKART&q=iphone13pro&store=tyy%2F4io&srno=s_1_2&otracker=search&fm=organic&iid=d3834560-c62f-4fad-974d-7361ecf83481.MOBG6VF5F5CYZHTV.SEARCH&ppt=None&ppn=None&ssid=5kti0l079c0000001677774806120&qH=43c39800153648da\n",
      "https://www.flipkart.com/apple-iphone-13-pro-gold-512-gb/p/itm837d2a477d50f?pid=MOBG6VF5F5CYZHTV&lid=LSTMOBG6VF5F5CYZHTVXBQYBO&marketplace=FLIPKART&q=iphone13pro&store=tyy%2F4io&srno=s_1_2&otracker=search&fm=organic&iid=d3834560-c62f-4fad-974d-7361ecf83481.MOBG6VF5F5CYZHTV.SEARCH&ppt=None&ppn=None&ssid=5kti0l079c0000001677774806120&qH=43c39800153648da\n",
      "https://www.flipkart.com/apple-iphone-13-pro-gold-512-gb/p/itm837d2a477d50f?pid=MOBG6VF5F5CYZHTV&lid=LSTMOBG6VF5F5CYZHTVXBQYBO&marketplace=FLIPKART&q=iphone13pro&store=tyy%2F4io&srno=s_1_2&otracker=search&fm=organic&iid=d3834560-c62f-4fad-974d-7361ecf83481.MOBG6VF5F5CYZHTV.SEARCH&ppt=None&ppn=None&ssid=5kti0l079c0000001677774806120&qH=43c39800153648da\n",
      "https://www.flipkart.com/apple-iphone-13-pro-gold-512-gb/p/itm837d2a477d50f?pid=MOBG6VF5F5CYZHTV&lid=LSTMOBG6VF5F5CYZHTVXBQYBO&marketplace=FLIPKART&q=iphone13pro&store=tyy%2F4io&srno=s_1_2&otracker=search&fm=organic&iid=d3834560-c62f-4fad-974d-7361ecf83481.MOBG6VF5F5CYZHTV.SEARCH&ppt=None&ppn=None&ssid=5kti0l079c0000001677774806120&qH=43c39800153648da\n",
      "https://www.flipkart.com/apple-iphone-13-pro-gold-512-gb/p/itm837d2a477d50f?pid=MOBG6VF5F5CYZHTV&lid=LSTMOBG6VF5F5CYZHTVXBQYBO&marketplace=FLIPKART&q=iphone13pro&store=tyy%2F4io&srno=s_1_2&otracker=search&fm=organic&iid=d3834560-c62f-4fad-974d-7361ecf83481.MOBG6VF5F5CYZHTV.SEARCH&ppt=None&ppn=None&ssid=5kti0l079c0000001677774806120&qH=43c39800153648da\n",
      "https://www.flipkart.com/apple-iphone-13-pro-gold-512-gb/p/itm837d2a477d50f?pid=MOBG6VF5F5CYZHTV&lid=LSTMOBG6VF5F5CYZHTVXBQYBO&marketplace=FLIPKART&q=iphone13pro&store=tyy%2F4io&srno=s_1_2&otracker=search&fm=organic&iid=d3834560-c62f-4fad-974d-7361ecf83481.MOBG6VF5F5CYZHTV.SEARCH&ppt=None&ppn=None&ssid=5kti0l079c0000001677774806120&qH=43c39800153648da\n",
      "https://www.flipkart.com/apple-iphone-13-pro-gold-512-gb/p/itm837d2a477d50f?pid=MOBG6VF5F5CYZHTV&lid=LSTMOBG6VF5F5CYZHTVXBQYBO&marketplace=FLIPKART&q=iphone13pro&store=tyy%2F4io&srno=s_1_2&otracker=search&fm=organic&iid=d3834560-c62f-4fad-974d-7361ecf83481.MOBG6VF5F5CYZHTV.SEARCH&ppt=None&ppn=None&ssid=5kti0l079c0000001677774806120&qH=43c39800153648da\n",
      "https://www.flipkart.com/apple-iphone-13-pro-gold-512-gb/p/itm837d2a477d50f?pid=MOBG6VF5F5CYZHTV&lid=LSTMOBG6VF5F5CYZHTVXBQYBO&marketplace=FLIPKART&q=iphone13pro&store=tyy%2F4io&srno=s_1_2&otracker=search&fm=organic&iid=d3834560-c62f-4fad-974d-7361ecf83481.MOBG6VF5F5CYZHTV.SEARCH&ppt=None&ppn=None&ssid=5kti0l079c0000001677774806120&qH=43c39800153648da\n",
      "https://www.flipkart.com/apple-iphone-13-pro-gold-512-gb/p/itm837d2a477d50f?pid=MOBG6VF5F5CYZHTV&lid=LSTMOBG6VF5F5CYZHTVXBQYBO&marketplace=FLIPKART&q=iphone13pro&store=tyy%2F4io&srno=s_1_2&otracker=search&fm=organic&iid=d3834560-c62f-4fad-974d-7361ecf83481.MOBG6VF5F5CYZHTV.SEARCH&ppt=None&ppn=None&ssid=5kti0l079c0000001677774806120&qH=43c39800153648da\n",
      "https://www.flipkart.com/apple-iphone-13-pro-gold-512-gb/p/itm837d2a477d50f?pid=MOBG6VF5F5CYZHTV&lid=LSTMOBG6VF5F5CYZHTVXBQYBO&marketplace=FLIPKART&q=iphone13pro&store=tyy%2F4io&srno=s_1_2&otracker=search&fm=organic&iid=d3834560-c62f-4fad-974d-7361ecf83481.MOBG6VF5F5CYZHTV.SEARCH&ppt=None&ppn=None&ssid=5kti0l079c0000001677774806120&qH=43c39800153648da\n",
      "https://www.flipkart.com/apple-iphone-13-pro-gold-512-gb/p/itm837d2a477d50f?pid=MOBG6VF5F5CYZHTV&lid=LSTMOBG6VF5F5CYZHTVXBQYBO&marketplace=FLIPKART&q=iphone13pro&store=tyy%2F4io&srno=s_1_2&otracker=search&fm=organic&iid=d3834560-c62f-4fad-974d-7361ecf83481.MOBG6VF5F5CYZHTV.SEARCH&ppt=None&ppn=None&ssid=5kti0l079c0000001677774806120&qH=43c39800153648da\n",
      "https://www.flipkart.com/apple-iphone-13-pro-gold-512-gb/p/itm837d2a477d50f?pid=MOBG6VF5F5CYZHTV&lid=LSTMOBG6VF5F5CYZHTVXBQYBO&marketplace=FLIPKART&q=iphone13pro&store=tyy%2F4io&srno=s_1_2&otracker=search&fm=organic&iid=d3834560-c62f-4fad-974d-7361ecf83481.MOBG6VF5F5CYZHTV.SEARCH&ppt=None&ppn=None&ssid=5kti0l079c0000001677774806120&qH=43c39800153648da\n",
      "https://www.flipkart.com/apple-iphone-13-pro-gold-512-gb/p/itm837d2a477d50f?pid=MOBG6VF5F5CYZHTV&lid=LSTMOBG6VF5F5CYZHTVXBQYBO&marketplace=FLIPKART&q=iphone13pro&store=tyy%2F4io&srno=s_1_2&otracker=search&fm=organic&iid=d3834560-c62f-4fad-974d-7361ecf83481.MOBG6VF5F5CYZHTV.SEARCH&ppt=None&ppn=None&ssid=5kti0l079c0000001677774806120&qH=43c39800153648da\n",
      "https://www.flipkart.com/apple-iphone-13-pro-gold-512-gb/p/itm837d2a477d50f?pid=MOBG6VF5F5CYZHTV&lid=LSTMOBG6VF5F5CYZHTVXBQYBO&marketplace=FLIPKART&q=iphone13pro&store=tyy%2F4io&srno=s_1_2&otracker=search&fm=organic&iid=d3834560-c62f-4fad-974d-7361ecf83481.MOBG6VF5F5CYZHTV.SEARCH&ppt=None&ppn=None&ssid=5kti0l079c0000001677774806120&qH=43c39800153648da\n",
      "https://www.flipkart.com/apple-iphone-13-pro-gold-512-gb/p/itm837d2a477d50f?pid=MOBG6VF5F5CYZHTV&lid=LSTMOBG6VF5F5CYZHTVXBQYBO&marketplace=FLIPKART&q=iphone13pro&store=tyy%2F4io&srno=s_1_2&otracker=search&fm=organic&iid=d3834560-c62f-4fad-974d-7361ecf83481.MOBG6VF5F5CYZHTV.SEARCH&ppt=None&ppn=None&ssid=5kti0l079c0000001677774806120&qH=43c39800153648da\n",
      "https://www.flipkart.com/apple-iphone-13-pro-gold-512-gb/p/itm837d2a477d50f?pid=MOBG6VF5F5CYZHTV&lid=LSTMOBG6VF5F5CYZHTVXBQYBO&marketplace=FLIPKART&q=iphone13pro&store=tyy%2F4io&srno=s_1_2&otracker=search&fm=organic&iid=d3834560-c62f-4fad-974d-7361ecf83481.MOBG6VF5F5CYZHTV.SEARCH&ppt=None&ppn=None&ssid=5kti0l079c0000001677774806120&qH=43c39800153648da\n",
      "https://www.flipkart.com/apple-iphone-13-pro-gold-512-gb/p/itm837d2a477d50f?pid=MOBG6VF5F5CYZHTV&lid=LSTMOBG6VF5F5CYZHTVXBQYBO&marketplace=FLIPKART&q=iphone13pro&store=tyy%2F4io&srno=s_1_2&otracker=search&fm=organic&iid=d3834560-c62f-4fad-974d-7361ecf83481.MOBG6VF5F5CYZHTV.SEARCH&ppt=None&ppn=None&ssid=5kti0l079c0000001677774806120&qH=43c39800153648da\n",
      "https://www.flipkart.com/apple-iphone-13-pro-gold-512-gb/p/itm837d2a477d50f?pid=MOBG6VF5F5CYZHTV&lid=LSTMOBG6VF5F5CYZHTVXBQYBO&marketplace=FLIPKART&q=iphone13pro&store=tyy%2F4io&srno=s_1_2&otracker=search&fm=organic&iid=d3834560-c62f-4fad-974d-7361ecf83481.MOBG6VF5F5CYZHTV.SEARCH&ppt=None&ppn=None&ssid=5kti0l079c0000001677774806120&qH=43c39800153648da\n",
      "https://www.flipkart.com/apple-iphone-13-pro-gold-512-gb/p/itm837d2a477d50f?pid=MOBG6VF5F5CYZHTV&lid=LSTMOBG6VF5F5CYZHTVXBQYBO&marketplace=FLIPKART&q=iphone13pro&store=tyy%2F4io&srno=s_1_2&otracker=search&fm=organic&iid=d3834560-c62f-4fad-974d-7361ecf83481.MOBG6VF5F5CYZHTV.SEARCH&ppt=None&ppn=None&ssid=5kti0l079c0000001677774806120&qH=43c39800153648da\n",
      "https://www.flipkart.com/apple-iphone-13-pro-gold-512-gb/p/itm837d2a477d50f?pid=MOBG6VF5F5CYZHTV&lid=LSTMOBG6VF5F5CYZHTVXBQYBO&marketplace=FLIPKART&q=iphone13pro&store=tyy%2F4io&srno=s_1_2&otracker=search&fm=organic&iid=d3834560-c62f-4fad-974d-7361ecf83481.MOBG6VF5F5CYZHTV.SEARCH&ppt=None&ppn=None&ssid=5kti0l079c0000001677774806120&qH=43c39800153648da\n",
      "https://www.flipkart.com/apple-iphone-13-pro-gold-512-gb/p/itm837d2a477d50f?pid=MOBG6VF5F5CYZHTV&lid=LSTMOBG6VF5F5CYZHTVXBQYBO&marketplace=FLIPKART&q=iphone13pro&store=tyy%2F4io&srno=s_1_2&otracker=search&fm=organic&iid=d3834560-c62f-4fad-974d-7361ecf83481.MOBG6VF5F5CYZHTV.SEARCH&ppt=None&ppn=None&ssid=5kti0l079c0000001677774806120&qH=43c39800153648da\n",
      "https://www.flipkart.com/apple-iphone-13-pro-gold-512-gb/p/itm837d2a477d50f?pid=MOBG6VF5F5CYZHTV&lid=LSTMOBG6VF5F5CYZHTVXBQYBO&marketplace=FLIPKART&q=iphone13pro&store=tyy%2F4io&srno=s_1_2&otracker=search&fm=organic&iid=d3834560-c62f-4fad-974d-7361ecf83481.MOBG6VF5F5CYZHTV.SEARCH&ppt=None&ppn=None&ssid=5kti0l079c0000001677774806120&qH=43c39800153648da\n",
      "https://www.flipkart.com/apple-iphone-13-pro-gold-512-gb/p/itm837d2a477d50f?pid=MOBG6VF5F5CYZHTV&lid=LSTMOBG6VF5F5CYZHTVXBQYBO&marketplace=FLIPKART&q=iphone13pro&store=tyy%2F4io&srno=s_1_2&otracker=search&fm=organic&iid=d3834560-c62f-4fad-974d-7361ecf83481.MOBG6VF5F5CYZHTV.SEARCH&ppt=None&ppn=None&ssid=5kti0l079c0000001677774806120&qH=43c39800153648da\n",
      "https://www.flipkart.com/apple-iphone-13-pro-gold-512-gb/p/itm837d2a477d50f?pid=MOBG6VF5F5CYZHTV&lid=LSTMOBG6VF5F5CYZHTVXBQYBO&marketplace=FLIPKART&q=iphone13pro&store=tyy%2F4io&srno=s_1_2&otracker=search&fm=organic&iid=d3834560-c62f-4fad-974d-7361ecf83481.MOBG6VF5F5CYZHTV.SEARCH&ppt=None&ppn=None&ssid=5kti0l079c0000001677774806120&qH=43c39800153648da\n",
      "https://www.flipkart.com/apple-iphone-13-pro-gold-512-gb/p/itm837d2a477d50f?pid=MOBG6VF5F5CYZHTV&lid=LSTMOBG6VF5F5CYZHTVXBQYBO&marketplace=FLIPKART&q=iphone13pro&store=tyy%2F4io&srno=s_1_2&otracker=search&fm=organic&iid=d3834560-c62f-4fad-974d-7361ecf83481.MOBG6VF5F5CYZHTV.SEARCH&ppt=None&ppn=None&ssid=5kti0l079c0000001677774806120&qH=43c39800153648da\n",
      "https://www.flipkart.com/apple-iphone-13-pro-gold-512-gb/p/itm837d2a477d50f?pid=MOBG6VF5F5CYZHTV&lid=LSTMOBG6VF5F5CYZHTVXBQYBO&marketplace=FLIPKART&q=iphone13pro&store=tyy%2F4io&srno=s_1_2&otracker=search&fm=organic&iid=d3834560-c62f-4fad-974d-7361ecf83481.MOBG6VF5F5CYZHTV.SEARCH&ppt=None&ppn=None&ssid=5kti0l079c0000001677774806120&qH=43c39800153648da\n",
      "https://www.flipkart.com/apple-iphone-13-pro-gold-512-gb/p/itm837d2a477d50f?pid=MOBG6VF5F5CYZHTV&lid=LSTMOBG6VF5F5CYZHTVXBQYBO&marketplace=FLIPKART&q=iphone13pro&store=tyy%2F4io&srno=s_1_2&otracker=search&fm=organic&iid=d3834560-c62f-4fad-974d-7361ecf83481.MOBG6VF5F5CYZHTV.SEARCH&ppt=None&ppn=None&ssid=5kti0l079c0000001677774806120&qH=43c39800153648da\n",
      "https://www.flipkart.com/apple-iphone-13-pro-gold-512-gb/p/itm837d2a477d50f?pid=MOBG6VF5F5CYZHTV&lid=LSTMOBG6VF5F5CYZHTVXBQYBO&marketplace=FLIPKART&q=iphone13pro&store=tyy%2F4io&srno=s_1_2&otracker=search&fm=organic&iid=d3834560-c62f-4fad-974d-7361ecf83481.MOBG6VF5F5CYZHTV.SEARCH&ppt=None&ppn=None&ssid=5kti0l079c0000001677774806120&qH=43c39800153648da\n"
     ]
    }
   ],
   "source": [
    "for i in bigbox:\n",
    "    print(\"https://www.flipkart.com\"+bigbox[3].div.div.div.a[\"href\"])"
   ]
  },
  {
   "cell_type": "code",
   "execution_count": null,
   "id": "8c4c3ff0-d3c1-4fcf-a3fc-967c81889eb1",
   "metadata": {},
   "outputs": [],
   "source": []
  }
 ],
 "metadata": {
  "kernelspec": {
   "display_name": "Python 3 (ipykernel)",
   "language": "python",
   "name": "python3"
  },
  "language_info": {
   "codemirror_mode": {
    "name": "ipython",
    "version": 3
   },
   "file_extension": ".py",
   "mimetype": "text/x-python",
   "name": "python",
   "nbconvert_exporter": "python",
   "pygments_lexer": "ipython3",
   "version": "3.10.8"
  }
 },
 "nbformat": 4,
 "nbformat_minor": 5
}
